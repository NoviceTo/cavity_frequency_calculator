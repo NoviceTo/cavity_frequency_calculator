{
 "cells": [
  {
   "cell_type": "code",
   "execution_count": null,
   "metadata": {},
   "outputs": [
    {
     "name": "stdout",
     "output_type": "stream",
     "text": [
      "10\n"
     ]
    }
   ],
   "source": [
    "import numpy as np\n",
    "import pandas as pd\n",
    "from pandas import Series, DataFrame\n",
    "import math\n",
    "import tkinter\n",
    "from tkinter import *\n",
    "root= Tk()\n",
    "root.geometry(\"600x1400+0+0\")\n",
    "frame1=Frame(root,width=600,height=100)\n",
    "frame1.pack(side=TOP)\n",
    "frame2=Frame(root,width=600,height=1100)\n",
    "frame2.pack()\n",
    "root.title('Rectangular cavity resonant frequency calculator')\n",
    "label_0=Label(frame1,text='WG width a/mm:')\n",
    "label_1=Label(frame1,text='WG height b/mm:')\n",
    "label_2=Label(frame1,text='WG length d/mm:')\n",
    "label_3=Label(frame1,text='relative epsilon of filling material')\n",
    "label_4=Label(frame1,text='number of mode need to show')\n",
    "label_5=Label(frame1,text='left click to calculate')\n",
    "entry_0=Entry(frame1)\n",
    "entry_1=Entry(frame1)\n",
    "entry_2=Entry(frame1)\n",
    "entry_3=Entry(frame1)\n",
    "entry_4=Entry(frame1)\n",
    "entry_5=Entry(frame1)\n",
    "label_0.grid(row=0,column=0,sticky=E)\n",
    "label_1.grid(row=1,column=0,sticky=E)\n",
    "label_2.grid(row=2,column=0,sticky=E)\n",
    "label_3.grid(row=3,column=0,sticky=E)\n",
    "label_4.grid(row=4,column=0,sticky=E)\n",
    "label_5.grid(row=5,column=0,sticky=E)\n",
    "entry_0.grid(row=0,column=1)\n",
    "entry_1.grid(row=1,column=1)\n",
    "entry_2.grid(row=2,column=1)\n",
    "entry_3.grid(row=3,column=1)\n",
    "entry_4.grid(row=4,column=1)\n",
    "def freuencyCalculation():\n",
    "    global a, b, d, epsilon, mode_number,frequency_list, result\n",
    "    a=float(entry_0.get())\n",
    "    b=float(entry_1.get())\n",
    "    d=float(entry_2.get())\n",
    "    epsilon=float(entry_3.get())\n",
    "    mode_numbers=int(entry_4.get())\n",
    "    m=np.arange(0,10)\n",
    "    n=np.arange(0,10)\n",
    "    p=np.arange(0,10)\n",
    "    temporary_row=np.empty([1,4])\n",
    "    frequency_list=pd.DataFrame(columns=['M','N','P','frequency'])\n",
    "    frequency_list.set_index('frequency')\n",
    "    i=j=k=0\n",
    "    for i in range(0,10):\n",
    "        for j in range(0,10):\n",
    "            for k in range(0,10):\n",
    "                frequency=(150*((m[i]/a)**2+(n[j]/b)**2+(p[k]/d)**2)**0.5)/((epsilon)**0.5)\n",
    "                if((m[i]and n[j])or ((m[i] and (not n[j])) or ((not m[i]) and n[j]))and p[k]):\n",
    "                    temporary_row[0][0]=m[i]\n",
    "                    temporary_row[0][1]=n[j]\n",
    "                    temporary_row[0][2]=p[k]\n",
    "                    temporary_row[0][3]=frequency\n",
    "                    frequency_list=np.row_stack((frequency_list,temporary_row))\n",
    "                k+=1\n",
    "            j+=1    \n",
    "        i+=1   \n",
    "    frequency_list=DataFrame(data=frequency_list,columns=['M','N','P','frequency'])\n",
    "    np.savetxt('result.csv',frequency_list,header='M,N,P,frequency',delimiter=',',comments='')\n",
    "    frequency_list=frequency_list[frequency_list['frequency']!=0.0]   \n",
    "    frequency_list=frequency_list.sort_values(by=['frequency'])\n",
    "    frequency_list=frequency_list.reset_index(drop=True)\n",
    "    result=DataFrame(frequency_list)\n",
    "    RowN=int(mode_numbers+1)\n",
    "    ColumnN=int(3+1)\n",
    "    ii=jj=0\n",
    "    for ii in range(0,RowN):\n",
    "        for jj in range(0,ColumnN):\n",
    "            if jj>2:\n",
    "                label_ii_jj=Label(frame2,text=float('%.3f'% result.iloc[ii,jj]),width=10,height=1)\n",
    "                label_ii_jj.grid(row=1+ii,column=jj)\n",
    "            else:\n",
    "                label_ii_jj=Label(frame2,text=int(result.iloc[ii,jj]),width=10,height=1)\n",
    "                label_ii_jj.grid(row=1+ii,column=jj)\n",
    "            jj+=1\n",
    "        ii+=1 \n",
    "    print(10)\n",
    "button_0=Button(frame1,text='Frequency Calculation',command=freuencyCalculation) \n",
    "button_0.grid(row=5,column=1)\n",
    "label_0=Label(frame2,text='M',width=10,height=1)\n",
    "label_0.grid(row=0,column=0)\n",
    "label_1=Label(frame2,text='N',width=10,height=1)\n",
    "label_1.grid(row=0,column=1)\n",
    "label_2=Label(frame2,text='P',width=10,height=1)\n",
    "label_2.grid(row=0,column=2)\n",
    "label_3=Label(frame2,text='frequency(GHz)',width=15,height=1)\n",
    "label_3.grid(row=0,column=3)\n",
    "root.mainloop()"
   ]
  },
  {
   "cell_type": "code",
   "execution_count": null,
   "metadata": {
    "collapsed": true
   },
   "outputs": [],
   "source": []
  },
  {
   "cell_type": "code",
   "execution_count": null,
   "metadata": {
    "collapsed": true
   },
   "outputs": [],
   "source": []
  }
 ],
 "metadata": {
  "kernelspec": {
   "display_name": "Python 3",
   "language": "python",
   "name": "python3"
  },
  "language_info": {
   "codemirror_mode": {
    "name": "ipython",
    "version": 3
   },
   "file_extension": ".py",
   "mimetype": "text/x-python",
   "name": "python",
   "nbconvert_exporter": "python",
   "pygments_lexer": "ipython3",
   "version": "3.6.1"
  }
 },
 "nbformat": 4,
 "nbformat_minor": 2
}
